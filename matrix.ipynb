{
 "cells": [
  {
   "cell_type": "markdown",
   "metadata": {},
   "source": [
    "# Aprendizagem - Homework III\n",
    "### II. Programming - Grupo99\n",
    "(ist1106059, ist1106329)"
   ]
  },
  {
   "cell_type": "markdown",
   "metadata": {},
   "source": [
    "1- "
   ]
  },
  {
   "cell_type": "code",
   "execution_count": 35,
   "metadata": {},
   "outputs": [
    {
     "name": "stdout",
     "output_type": "stream",
     "text": [
      "Inversa de A:\n",
      "\n",
      "[[ 0.45390071 -0.06382979]\n",
      " [-0.06382979  0.0141844 ]]\n",
      "\n",
      "\n",
      "Resultado da multiplicação da inversa de A por B:\n",
      "\n",
      "[[1.81808511]\n",
      " [0.32375887]]\n"
     ]
    }
   ],
   "source": [
    "import numpy as np\n",
    "\n",
    "X = np.array([[1,1],[1,3], [1,6],[1,9], [1,8]])\n",
    "Z = np.array([[1.25],[7.0],[2.7],[3.2],[5.5]])\n",
    "Xt =  np.transpose(X)\n",
    "\n",
    "XtX = Xt @ X\n",
    "I = np.identity(2)\n",
    "\n",
    "XtXIinv = np.linalg.inv(XtX+I)\n",
    "\n",
    "resultado = XtXIinv @ Xt @ Z\n",
    "\n",
    "print(\"Inversa de A:\\n\")\n",
    "print(XtXIinv)\n",
    "print(\"\\n\\nResultado da multiplicação da inversa de A por B:\\n\")\n",
    "print(resultado)"
   ]
  },
  {
   "cell_type": "code",
   "execution_count": 42,
   "metadata": {},
   "outputs": [
    {
     "name": "stdout",
     "output_type": "stream",
     "text": [
      "[2.14185 2.78937 3.76065 4.73193 4.40817]\n"
     ]
    }
   ],
   "source": [
    "#Simples multiplicação de matrizes\n",
    "m1=np.array([[1,1],[1,3],[1,6],[1,9],[1,8]])\n",
    "m2=np.array([1.81809, 0.32376])\n",
    "print(m1 @ m2)"
   ]
  },
  {
   "cell_type": "code",
   "execution_count": 38,
   "metadata": {},
   "outputs": [
    {
     "name": "stdout",
     "output_type": "stream",
     "text": [
      "x1:\n",
      "\n",
      "[[0.3]\n",
      " [0.3]\n",
      " [0.4]]\n",
      "\n",
      "z2:\n",
      "\n",
      "[[2.7]\n",
      " [2.3]\n",
      " [2. ]]\n",
      "\n",
      "x2:\n",
      "\n",
      "[[0.46148762]\n",
      " [0.3093444 ]\n",
      " [0.22916797]]\n"
     ]
    }
   ],
   "source": [
    "#forward propagation\n",
    "from scipy.special import softmax\n",
    "\n",
    "X0 = np.array([[1],[1]])\n",
    "W1 = np.array([[0.1, 0.1],[0.1, 0.2],[0.2,0.1]])\n",
    "b1 = np.array([[0.1], [0], [0.1]])\n",
    "W2 = np.array([[1,2,2],[1,2,1],[1,1,1]])\n",
    "b2 = np.array([[1],[1],[1]])\n",
    "\n",
    "Z1=W1 @ X0 + b1\n",
    "X1=Z1\n",
    "print(f\"x1:\\n\\n{X1}\")\n",
    "\n",
    "Z2=W2 @ X1 + b2\n",
    "X2=softmax(Z2)\n",
    "print(f\"\\nz2:\\n\\n{Z2}\")\n",
    "print(f\"\\nx2:\\n\\n{X2}\")"
   ]
  },
  {
   "cell_type": "code",
   "execution_count": 43,
   "metadata": {},
   "outputs": [
    {
     "name": "stdout",
     "output_type": "stream",
     "text": [
      "delta:\n",
      "\n",
      "[[ 0.46148762]\n",
      " [-0.6906556 ]\n",
      " [ 0.22916797]]\n",
      "\n",
      "\n",
      "dE/dx2:\n",
      "\n",
      "[[ 0.13844629  0.13844629  0.18459505]\n",
      " [-0.20719668 -0.20719668 -0.27626224]\n",
      " [ 0.06875039  0.06875039  0.09166719]]\n",
      "\n",
      "\n",
      "W2:\n",
      "\n",
      "[[0.98615537 1.98615537 1.9815405 ]\n",
      " [1.02071967 2.02071967 1.02762622]\n",
      " [0.99312496 0.99312496 0.99083328]]\n",
      "\n",
      "\n",
      "b2:\n",
      "\n",
      "[[0.95385124]\n",
      " [1.06906556]\n",
      " [0.9770832 ]]\n"
     ]
    }
   ],
   "source": [
    "#update w e b\n",
    "W2_old=np.array([[1,2,2],[1,2,1],[1,1,1]])\n",
    "B2_old=np.array([[1],[1],[1]])\n",
    "delta2 = X2 - np.array([[0],[1],[0]])\n",
    "\n",
    "print(\"delta:\\n\")\n",
    "print(delta2)\n",
    "print(\"\\n\\ndE/dx2:\\n\")\n",
    "print(delta2 @ np.transpose(X1))\n",
    "print(\"\\n\\nW2:\\n\")\n",
    "print(W2_old - 0.1 * (delta2 @ np.transpose(X1)))\n",
    "print(\"\\n\\nb2:\\n\")\n",
    "print(B2_old - 0.1 * delta2)"
   ]
  },
  {
   "cell_type": "code",
   "execution_count": 44,
   "metadata": {},
   "outputs": [
    {
     "name": "stdout",
     "output_type": "stream",
     "text": [
      "delta 1:\n",
      "\n",
      "[[-2.77555756e-17]\n",
      " [-2.29167972e-01]\n",
      " [ 4.61487623e-01]]\n",
      "[[-2.77555756e-17 -2.77555756e-17]\n",
      " [-2.29167972e-01 -2.29167972e-01]\n",
      " [ 4.61487623e-01  4.61487623e-01]]\n",
      "\n",
      "\n",
      "W 1 new:\n",
      "\n",
      "[[0.1        0.1       ]\n",
      " [0.1229168  0.2229168 ]\n",
      " [0.15385124 0.05385124]]\n",
      "\n",
      "\n",
      "b 1 new:\n",
      "\n",
      "[[0.1       ]\n",
      " [0.0229168 ]\n",
      " [0.05385124]]\n"
     ]
    }
   ],
   "source": [
    "#update w e b\n",
    "W1_old=np.array([[0.1,0.1],[0.1,0.2],[0.2,0.1]])\n",
    "W2_old=np.array([[1,1,1],[2,2,1],[2,1,1]])\n",
    "B_old=np.array([[0.1],[0],[0.1]])\n",
    "X0 = np.array([[1],[1]])\n",
    "\n",
    "delta1 = W2_old @ delta2\n",
    "print(f\"delta 1:\\n\\n{delta1}\")\n",
    "print(delta1 @ np.transpose(X0))\n",
    "print(\"\\n\\nW 1 new:\\n\")\n",
    "print(W1_old - 0.1 * (delta1 @ np.transpose(X0)))\n",
    "print(\"\\n\\nb 1 new:\\n\")\n",
    "print(B_old - 0.1 * delta1)"
   ]
  },
  {
   "cell_type": "code",
   "execution_count": null,
   "metadata": {},
   "outputs": [],
   "source": []
  }
 ],
 "metadata": {
  "kernelspec": {
   "display_name": "Python 3",
   "language": "python",
   "name": "python3"
  },
  "language_info": {
   "codemirror_mode": {
    "name": "ipython",
    "version": 3
   },
   "file_extension": ".py",
   "mimetype": "text/x-python",
   "name": "python",
   "nbconvert_exporter": "python",
   "pygments_lexer": "ipython3",
   "version": "3.10.12"
  }
 },
 "nbformat": 4,
 "nbformat_minor": 2
}
