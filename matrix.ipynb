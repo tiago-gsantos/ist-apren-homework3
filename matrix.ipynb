{
 "cells": [
  {
   "cell_type": "markdown",
   "metadata": {},
   "source": [
    "# Aprendizagem - Homework III\n",
    "### II. Programming - Grupo99\n",
    "(ist1106059, ist1106329)"
   ]
  },
  {
   "cell_type": "markdown",
   "metadata": {},
   "source": [
    "1- "
   ]
  },
  {
   "cell_type": "code",
   "execution_count": null,
   "metadata": {},
   "outputs": [
    {
     "name": "stdout",
     "output_type": "stream",
     "text": [
      "Inversa de A:\n",
      "[[ 0.45390071 -0.06382979]\n",
      " [-0.06382979  0.0141844 ]]\n",
      "Resultado da multiplicação da inversa de A por B:\n",
      "[[1.81808511]\n",
      " [0.32375887]]\n"
     ]
    }
   ],
   "source": [
    "import numpy as np\n",
    "\n",
    "X = np.array([[1,1],[1,3], [1,6],[1,9], [1,8]])\n",
    "Z = np.array([[1.25],[7.0],[2.7],[3.2],[5.5]])\n",
    "Xt =  np.transpose(X)\n",
    "\n",
    "XtX = Xt @ X\n",
    "I = np.identity(2)\n",
    "\n",
    "XtXIinv = np.linalg.inv(XtX+I)\n",
    "\n",
    "resultado = XtXIinv @ Xt @ Z\n",
    "\n",
    "print(\"Inversa de A:\")\n",
    "print(XtXIinv)\n",
    "print(\"Resultado da multiplicação da inversa de A por B:\")\n",
    "print(resultado)"
   ]
  },
  {
   "cell_type": "code",
   "execution_count": null,
   "metadata": {},
   "outputs": [
    {
     "name": "stdout",
     "output_type": "stream",
     "text": [
      "[3.77081 3.54337 3.88453]\n"
     ]
    }
   ],
   "source": [
    "#Simples multiplicação de matrizes\n",
    "X=np.array([[1,4],[1,2],[1,5]])\n",
    "Y=np.array([3.31593, 0.11372])\n",
    "print(X @ Y)"
   ]
  },
  {
   "cell_type": "code",
   "execution_count": null,
   "metadata": {},
   "outputs": [
    {
     "name": "stdout",
     "output_type": "stream",
     "text": [
      "[0.3 0.3 0.4]\n",
      "[2.7 2.3 2. ]\n",
      "[0.46148762 0.3093444  0.22916797]\n"
     ]
    }
   ],
   "source": [
    "#forward propagation\n",
    "from scipy.special import softmax\n",
    "\n",
    "X0 = np.array([1,1])\n",
    "W1 = np.array([[0.1, 0.1],[0.1, 0.2],[0.2,0.1]])\n",
    "b1 = np.array([0.1, 0, 0.1])\n",
    "W2 = np.array([[1,2,2],[1,2,1],[1,1,1]])\n",
    "b2 = np.array([1,1,1])\n",
    "\n",
    "Z1=W1 @ X0 + b1\n",
    "X1=Z1\n",
    "print(X1)\n",
    "\n",
    "Z2=W2 @ X1 + b2\n",
    "X2=softmax(Z2)\n",
    "print(Z2)\n",
    "print(X2)"
   ]
  },
  {
   "cell_type": "code",
   "execution_count": null,
   "metadata": {},
   "outputs": [
    {
     "name": "stdout",
     "output_type": "stream",
     "text": [
      "[[0.9977083 1.9977083 1.9977083]\n",
      " [0.9977083 1.9977083 0.9977083]\n",
      " [0.9977083 0.9977083 0.9977083]]\n",
      "[0.953851 1.069066 0.977083]\n"
     ]
    }
   ],
   "source": [
    "#update w e b\n",
    "W_old=np.array([[1,2,2],[1,2,1],[1,1,1]])\n",
    "B_old=np.array([1,1,1])\n",
    "delta=np.array([0.46149,-0.69066,0.22917])\n",
    "X= np.array([0.3,0.3,0.4])\n",
    "\n",
    "print(W_old - 0.1 * (delta @ np.transpose(X)))\n",
    "print(B_old - 0.1 * delta)"
   ]
  },
  {
   "cell_type": "code",
   "execution_count": null,
   "metadata": {},
   "outputs": [
    {
     "name": "stdout",
     "output_type": "stream",
     "text": [
      "[-2.77555756e-17 -2.29170000e-01  4.61490000e-01]\n",
      "[[0.0884155 0.0884155]\n",
      " [0.0884155 0.1884155]\n",
      " [0.1884155 0.0884155]]\n",
      "[0.1      0.022917 0.053851]\n"
     ]
    }
   ],
   "source": [
    "#update w e b\n",
    "W1_old=np.array([[0.1,0.1],[0.1,0.2],[0.2,0.1]])\n",
    "W2_old=np.array([[1,2,2],[1,2,1],[1,1,1]])\n",
    "B_old=np.array([0.1,0,0.1])\n",
    "delta2=np.array([0.46149,-0.69066,0.22917])\n",
    "X0 = np.array([0.3,0.3,0.4])\n",
    "\n",
    "delta1 = np.transpose(W2_old) @ delta2\n",
    "print(delta1)\n",
    "\n",
    "print(W1_old - 0.1 * (delta1 @ np.transpose(X0)))\n",
    "print(B_old - 0.1 * delta1)"
   ]
  },
  {
   "cell_type": "code",
   "execution_count": null,
   "metadata": {},
   "outputs": [],
   "source": []
  }
 ],
 "metadata": {
  "language_info": {
   "name": "python"
  }
 },
 "nbformat": 4,
 "nbformat_minor": 2
}
