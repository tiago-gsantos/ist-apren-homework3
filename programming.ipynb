{
 "cells": [
  {
   "cell_type": "markdown",
   "metadata": {},
   "source": [
    "# Aprendizagem - Homework III\n",
    "### II. Programming - Grupo99\n",
    "(ist1106059, ist1106329)"
   ]
  },
  {
   "cell_type": "markdown",
   "metadata": {},
   "source": [
    "1- "
   ]
  },
  {
   "cell_type": "code",
   "execution_count": 9,
   "metadata": {},
   "outputs": [
    {
     "name": "stdout",
     "output_type": "stream",
     "text": [
      "Inversa de A:\n",
      "[[ 0.45390071 -0.06382979]\n",
      " [-0.06382979  0.0141844 ]]\n",
      "Resultado da multiplicação da inversa de A por B:\n",
      "[[1.81808511]\n",
      " [0.32375887]]\n"
     ]
    }
   ],
   "source": [
    "import numpy as np\n",
    "\n",
    "X = np.array([[1,1],[1,3], [1,6],[1,9], [1,8]])\n",
    "Z = np.array([[1.25],[7.0],[2.7],[3.2],[5.5]])\n",
    "Xt =  np.transpose(X)\n",
    "\n",
    "XtX = Xt @ X\n",
    "I = np.identity(2)\n",
    "\n",
    "XtXIinv = np.linalg.inv(XtX+I)\n",
    "\n",
    "resultado = XtXIinv @ Xt @ Z\n",
    "\n",
    "print(\"Inversa de A:\")\n",
    "print(XtXIinv)\n",
    "print(\"Resultado da multiplicação da inversa de A por B:\")\n",
    "print(resultado)\n",
    "\n",
    "#print(X @ resultado)"
   ]
  },
  {
   "cell_type": "code",
   "execution_count": 12,
   "metadata": {},
   "outputs": [
    {
     "name": "stdout",
     "output_type": "stream",
     "text": [
      "[3.77081 3.54337 3.88453]\n"
     ]
    }
   ],
   "source": [
    "X=np.array([[1,4],[1,2],[1,5]])\n",
    "Y=np.array([3.31593, 0.11372])\n",
    "print(X @ Y)"
   ]
  },
  {
   "cell_type": "code",
   "execution_count": null,
   "metadata": {},
   "outputs": [],
   "source": []
  }
 ],
 "metadata": {
  "kernelspec": {
   "display_name": "Python 3",
   "language": "python",
   "name": "python3"
  },
  "language_info": {
   "codemirror_mode": {
    "name": "ipython",
    "version": 3
   },
   "file_extension": ".py",
   "mimetype": "text/x-python",
   "name": "python",
   "nbconvert_exporter": "python",
   "pygments_lexer": "ipython3",
   "version": "3.10.12"
  }
 },
 "nbformat": 4,
 "nbformat_minor": 2
}
